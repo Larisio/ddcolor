{
 "cells": [
  {
   "cell_type": "code",
   "execution_count": null,
   "id": "f01668a8",
   "metadata": {},
   "outputs": [],
   "source": [
    "from modelscope.hub.snapshot_download import snapshot_download\n",
    "\n",
    "model_dir = snapshot_download('damo/cv_ddcolor_image-colorization', cache_dir='./modelscope')\n",
    "print('model assets saved to %s' % model_dir)"
   ]
  },
  {
   "cell_type": "code",
   "execution_count": 6,
   "id": "b508128d",
   "metadata": {},
   "outputs": [],
   "source": [
    "def files_in_dir(dir_path):\n",
    "    import os\n",
    "    return [f for f in os.listdir(dir_path) if os.path.isfile(os.path.join(dir_path, f))]"
   ]
  },
  {
   "cell_type": "code",
   "execution_count": 8,
   "id": "17c93822",
   "metadata": {},
   "outputs": [
    {
     "name": "stdout",
     "output_type": "stream",
     "text": [
      "test_img\\img0.jpg\n",
      "test_img\\img1.jpg\n",
      "test_img\\img10.jpg\n",
      "test_img\\img11.jpg\n",
      "test_img\\img12.jpg\n",
      "test_img\\img13.jpg\n",
      "test_img\\img14.jpg\n",
      "test_img\\img15.jpg\n",
      "test_img\\img16.jpg\n",
      "test_img\\img17.jpg\n",
      "test_img\\img18.jpg\n",
      "test_img\\img19.jpg\n",
      "test_img\\img2.jpg\n",
      "test_img\\img20.jpg\n",
      "test_img\\img21.jpg\n",
      "test_img\\img22.jpg\n",
      "test_img\\img23.jpg\n",
      "test_img\\img3.jpg\n",
      "test_img\\img4.jpg\n",
      "test_img\\img5.jpg\n",
      "test_img\\img6.jpg\n",
      "test_img\\img7.jpg\n",
      "test_img\\img8.jpg\n",
      "test_img\\img9.jpg\n"
     ]
    }
   ],
   "source": [
    "file_names = files_in_dir('C:\\\\Users\\\\Lars\\\\Desktop\\\\KNN\\\\projekt\\\\quick\\\\test_img')\n",
    "for file_name in file_names:\n",
    "    print(f'test_img\\{file_name}')"
   ]
  },
  {
   "cell_type": "code",
   "execution_count": null,
   "id": "de52312c",
   "metadata": {},
   "outputs": [],
   "source": []
  }
 ],
 "metadata": {
  "kernelspec": {
   "display_name": "ddcolor",
   "language": "python",
   "name": "python3"
  },
  "language_info": {
   "codemirror_mode": {
    "name": "ipython",
    "version": 3
   },
   "file_extension": ".py",
   "mimetype": "text/x-python",
   "name": "python",
   "nbconvert_exporter": "python",
   "pygments_lexer": "ipython3",
   "version": "3.10.18"
  }
 },
 "nbformat": 4,
 "nbformat_minor": 5
}
